{
  "metadata": {
    "kernelspec": {
      "language": "python",
      "display_name": "Python 3",
      "name": "python3"
    },
    "language_info": {
      "name": "python",
      "version": "3.10.14",
      "mimetype": "text/x-python",
      "codemirror_mode": {
        "name": "ipython",
        "version": 3
      },
      "pygments_lexer": "ipython3",
      "nbconvert_exporter": "python",
      "file_extension": ".py"
    },
    "kaggle": {
      "accelerator": "gpu",
      "dataSources": [],
      "isInternetEnabled": true,
      "language": "python",
      "sourceType": "notebook",
      "isGpuEnabled": true
    },
    "colab": {
      "provenance": [],
      "include_colab_link": true
    }
  },
  "nbformat_minor": 0,
  "nbformat": 4,
  "cells": [
    {
      "cell_type": "markdown",
      "metadata": {
        "id": "view-in-github",
        "colab_type": "text"
      },
      "source": [
        "<a href=\"https://colab.research.google.com/github/ywaby/ipynb/blob/main/RVC_colab.ipynb\" target=\"_parent\"><img src=\"https://colab.research.google.com/assets/colab-badge.svg\" alt=\"Open In Colab\"/></a>"
      ]
    },
    {
      "cell_type": "markdown",
      "source": [
        "[RVC github](https://github.com/RVC-Project/Retrieval-based-Voice-Conversion-WebUI)"
      ],
      "metadata": {
        "id": "nZEGivls-D7t"
      }
    },
    {
      "cell_type": "code",
      "source": [
        "!git clone https://github.com/RVC-Project/Retrieval-based-Voice-Conversion-WebUI.git --depth=1\n"
      ],
      "metadata": {
        "execution": {
          "iopub.status.busy": "2023-12-07T00:37:50.847428Z",
          "iopub.execute_input": "2023-12-07T00:37:50.847766Z",
          "iopub.status.idle": "2023-12-07T00:37:52.588736Z",
          "shell.execute_reply.started": "2023-12-07T00:37:50.847736Z",
          "shell.execute_reply": "2023-12-07T00:37:52.587526Z"
        },
        "trusted": true,
        "id": "DTdKl5j0-D7v"
      },
      "execution_count": null,
      "outputs": []
    },
    {
      "cell_type": "code",
      "source": [
        "%cd /content/Retrieval-based-Voice-Conversion-WebUI\n",
        "!pip install -r requirements.txt -q\n"
      ],
      "metadata": {
        "execution": {
          "iopub.status.busy": "2023-12-07T01:35:13.524659Z",
          "iopub.execute_input": "2023-12-07T01:35:13.525192Z",
          "iopub.status.idle": "2023-12-07T01:38:30.464079Z",
          "shell.execute_reply.started": "2023-12-07T01:35:13.52512Z",
          "shell.execute_reply": "2023-12-07T01:38:30.461906Z"
        },
        "trusted": true,
        "id": "KTKfBv4P-D7w"
      },
      "execution_count": null,
      "outputs": []
    },
    {
      "cell_type": "code",
      "source": [
        "!apt -y update -qq\n",
        "!apt -y install -qq aria2\n",
        "# !pip install gdown\n",
        "!npm install -g localtunnel\n",
        "!pip install huggingface_hub  hf_transfer\n",
        "import os\n",
        "os.environ[\"HF_HUB_ENABLE_HF_TRANSFER\"] = \"1\"\n"
      ],
      "metadata": {
        "execution": {
          "iopub.status.busy": "2024-10-17T05:06:21.371514Z",
          "iopub.execute_input": "2024-10-17T05:06:21.371887Z",
          "iopub.status.idle": "2024-10-17T05:07:09.083342Z",
          "shell.execute_reply.started": "2024-10-17T05:06:21.371852Z",
          "shell.execute_reply": "2024-10-17T05:07:09.082348Z"
        },
        "trusted": true,
        "id": "5xhsrrhd-D7x",
        "outputId": "7ea531d7-56e6-450a-c08c-16c21d82295d"
      },
      "execution_count": null,
      "outputs": [
        {
          "name": "stdout",
          "text": "\u001b[1;33mW: \u001b[0mhttp://packages.cloud.google.com/apt/dists/gcsfuse-focal/InRelease: Key is stored in legacy trusted.gpg keyring (/etc/apt/trusted.gpg), see the DEPRECATION section in apt-key(8) for details.\u001b[0m\n\u001b[1;31mE: \u001b[0mRepository 'http://packages.cloud.google.com/apt gcsfuse-focal InRelease' changed its 'Origin' value from 'gcsfuse-jessie' to 'gcsfuse-focal'\u001b[0m\n\u001b[1;31mE: \u001b[0mRepository 'http://packages.cloud.google.com/apt gcsfuse-focal InRelease' changed its 'Label' value from 'gcsfuse-jessie' to 'gcsfuse-focal'\u001b[0m\n\u001b[1;33mW: \u001b[0mhttps://packages.cloud.google.com/apt/dists/google-fast-socket/InRelease: Key is stored in legacy trusted.gpg keyring (/etc/apt/trusted.gpg), see the DEPRECATION section in apt-key(8) for details.\u001b[0m\nThe following additional packages will be installed:\n  libaria2-0 libc-ares2 libssh2-1\nThe following NEW packages will be installed:\n  aria2 libaria2-0 libc-ares2 libssh2-1\n0 upgraded, 4 newly installed, 0 to remove and 205 not upgraded.\nNeed to get 1622 kB of archives.\nAfter this operation, 5817 kB of additional disk space will be used.\n\n\u001b7\u001b[0;23r\u001b8\u001b[1ASelecting previously unselected package libc-ares2:amd64.\n(Reading database ... 113701 files and directories currently installed.)\nPreparing to unpack .../libc-ares2_1.18.1-1ubuntu0.22.04.3_amd64.deb ...\n\u001b7\u001b[24;0f\u001b[42m\u001b[30mProgress: [  0%]\u001b[49m\u001b[39m [..........................................................] \u001b8\u001b7\u001b[24;0f\u001b[42m\u001b[30mProgress: [  6%]\u001b[49m\u001b[39m [###.......................................................] \u001b8Unpacking libc-ares2:amd64 (1.18.1-1ubuntu0.22.04.3) ...\n\u001b7\u001b[24;0f\u001b[42m\u001b[30mProgress: [ 12%]\u001b[49m\u001b[39m [######....................................................] \u001b8Selecting previously unselected package libssh2-1:amd64.\nPreparing to unpack .../libssh2-1_1.10.0-3_amd64.deb ...\n\u001b7\u001b[24;0f\u001b[42m\u001b[30mProgress: [ 18%]\u001b[49m\u001b[39m [##########................................................] \u001b8Unpacking libssh2-1:amd64 (1.10.0-3) ...\n\u001b7\u001b[24;0f\u001b[42m\u001b[30mProgress: [ 24%]\u001b[49m\u001b[39m [#############.............................................] \u001b8Selecting previously unselected package libaria2-0:amd64.\nPreparing to unpack .../libaria2-0_1.36.0-1_amd64.deb ...\n\u001b7\u001b[24;0f\u001b[42m\u001b[30mProgress: [ 29%]\u001b[49m\u001b[39m [#################.........................................] \u001b8Unpacking libaria2-0:amd64 (1.36.0-1) ...\n\u001b7\u001b[24;0f\u001b[42m\u001b[30mProgress: [ 35%]\u001b[49m\u001b[39m [####################......................................] \u001b8Selecting previously unselected package aria2.\nPreparing to unpack .../aria2_1.36.0-1_amd64.deb ...\n\u001b7\u001b[24;0f\u001b[42m\u001b[30mProgress: [ 41%]\u001b[49m\u001b[39m [#######################...................................] \u001b8Unpacking aria2 (1.36.0-1) ...\n\u001b7\u001b[24;0f\u001b[42m\u001b[30mProgress: [ 47%]\u001b[49m\u001b[39m [###########################...............................] \u001b8Setting up libc-ares2:amd64 (1.18.1-1ubuntu0.22.04.3) ...\n\u001b7\u001b[24;0f\u001b[42m\u001b[30mProgress: [ 53%]\u001b[49m\u001b[39m [##############################............................] \u001b8\u001b7\u001b[24;0f\u001b[42m\u001b[30mProgress: [ 59%]\u001b[49m\u001b[39m [##################################........................] \u001b8Setting up libssh2-1:amd64 (1.10.0-3) ...\n\u001b7\u001b[24;0f\u001b[42m\u001b[30mProgress: [ 65%]\u001b[49m\u001b[39m [#####################################.....................] \u001b8\u001b7\u001b[24;0f\u001b[42m\u001b[30mProgress: [ 71%]\u001b[49m\u001b[39m [########################################..................] \u001b8Setting up libaria2-0:amd64 (1.36.0-1) ...\n\u001b7\u001b[24;0f\u001b[42m\u001b[30mProgress: [ 76%]\u001b[49m\u001b[39m [############################################..............] \u001b8\u001b7\u001b[24;0f\u001b[42m\u001b[30mProgress: [ 82%]\u001b[49m\u001b[39m [###############################################...........] \u001b8Setting up aria2 (1.36.0-1) ...\n\u001b7\u001b[24;0f\u001b[42m\u001b[30mProgress: [ 88%]\u001b[49m\u001b[39m [###################################################.......] \u001b8\u001b7\u001b[24;0f\u001b[42m\u001b[30mProgress: [ 94%]\u001b[49m\u001b[39m [######################################################....] \u001b8Processing triggers for man-db (2.10.2-1) ...\nProcessing triggers for libc-bin (2.35-0ubuntu3.1) ...\n\n\u001b[K\u001b[?25hm#################\u001b[0m\u001b[100;90m⠂\u001b[0m) ⠧ reify:yargs-parser: \u001b[32;40mhttp\u001b[0m \u001b[35mfetch\u001b[0m GET 200 https://registry.\u001b[0m\u001b[K\nadded 22 packages in 1s\n\n3 packages are looking for funding\n  run `npm fund` for details\n\u001b[37;40mnpm\u001b[0m \u001b[0m\u001b[36;40mnotice\u001b[0m\u001b[35m\u001b[0m \n\u001b[0m\u001b[37;40mnpm\u001b[0m \u001b[0m\u001b[36;40mnotice\u001b[0m\u001b[35m\u001b[0m New \u001b[31mmajor\u001b[39m version of npm available! \u001b[31m9.5.0\u001b[39m -> \u001b[32m10.9.0\u001b[39m\n\u001b[0m\u001b[37;40mnpm\u001b[0m \u001b[0m\u001b[36;40mnotice\u001b[0m\u001b[35m\u001b[0m Changelog: \u001b[36mhttps://github.com/npm/cli/releases/tag/v10.9.0\u001b[39m\n\u001b[0m\u001b[37;40mnpm\u001b[0m \u001b[0m\u001b[36;40mnotice\u001b[0m\u001b[35m\u001b[0m Run \u001b[32mnpm install -g npm@10.9.0\u001b[39m to update!\n\u001b[0m\u001b[37;40mnpm\u001b[0m \u001b[0m\u001b[36;40mnotice\u001b[0m\u001b[35m\u001b[0m \n\u001b[0mRequirement already satisfied: huggingface_hub in /opt/conda/lib/python3.10/site-packages (0.25.2)\nCollecting hf_transfer\n  Downloading hf_transfer-0.1.8-cp310-cp310-manylinux_2_17_x86_64.manylinux2014_x86_64.whl (3.6 MB)\n\u001b[2K     \u001b[90m━━━━━━━━━━━━━━━━━━━━━━━━━━━━━━━━━━━━━━━━\u001b[0m \u001b[32m3.6/3.6 MB\u001b[0m \u001b[31m53.8 MB/s\u001b[0m eta \u001b[36m0:00:00\u001b[0ma \u001b[36m0:00:01\u001b[0m\n\u001b[?25hRequirement already satisfied: filelock in /opt/conda/lib/python3.10/site-packages (from huggingface_hub) (3.12.2)\nRequirement already satisfied: fsspec>=2023.5.0 in /opt/conda/lib/python3.10/site-packages (from huggingface_hub) (2023.6.0)\nRequirement already satisfied: packaging>=20.9 in /opt/conda/lib/python3.10/site-packages (from huggingface_hub) (21.3)\nRequirement already satisfied: pyyaml>=5.1 in /opt/conda/lib/python3.10/site-packages (from huggingface_hub) (6.0)\nRequirement already satisfied: requests in /opt/conda/lib/python3.10/site-packages (from huggingface_hub) (2.31.0)\nRequirement already satisfied: tqdm>=4.42.1 in /opt/conda/lib/python3.10/site-packages (from huggingface_hub) (4.65.0)\nRequirement already satisfied: typing-extensions>=3.7.4.3 in /opt/conda/lib/python3.10/site-packages (from huggingface_hub) (4.6.3)\nRequirement already satisfied: pyparsing!=3.0.5,>=2.0.2 in /opt/conda/lib/python3.10/site-packages (from packaging>=20.9->huggingface_hub) (3.0.9)\nRequirement already satisfied: charset-normalizer<4,>=2 in /opt/conda/lib/python3.10/site-packages (from requests->huggingface_hub) (3.1.0)\nRequirement already satisfied: idna<4,>=2.5 in /opt/conda/lib/python3.10/site-packages (from requests->huggingface_hub) (3.4)\nRequirement already satisfied: urllib3<3,>=1.21.1 in /opt/conda/lib/python3.10/site-packages (from requests->huggingface_hub) (1.26.15)\nRequirement already satisfied: certifi>=2017.4.17 in /opt/conda/lib/python3.10/site-packages (from requests->huggingface_hub) (2023.5.7)\nInstalling collected packages: hf_transfer\nSuccessfully installed hf_transfer-0.1.8\n",
          "output_type": "stream"
        }
      ]
    },
    {
      "cell_type": "markdown",
      "source": [
        "## download weight"
      ],
      "metadata": {
        "id": "jb_0JZzb-D7z"
      }
    },
    {
      "cell_type": "code",
      "source": [
        "\n",
        "from huggingface_hub import snapshot_download, hf_hub_download\n",
        "import os\n",
        "hf_hub_download(repo_id=\"lj1995/VoiceConversionWebUI\",filename=\"hubert_base.pt\", local_dir=\"/content/Retrieval-based-Voice-Conversion-WebUI/assets/hubert\")\n",
        "hf_hub_download(repo_id=\"lj1995/VoiceConversionWebUI\",filename=\"rmvpe.pt\", local_dir=\"/content/Retrieval-based-Voice-Conversion-WebUI/assets/rmvpe\")\n",
        "snapshot_download(repo_id=\"lj1995/VoiceConversionWebUI\",allow_patterns=[\"uvr5_weights/*\"], local_dir=\"/content/Retrieval-based-Voice-Conversion-WebUI/assets\")\n",
        "snapshot_download(repo_id=\"lj1995/VoiceConversionWebUI\",allow_patterns=[\"pretrained_v2/*\"], local_dir=\"/content/Retrieval-based-Voice-Conversion-WebUI/assets\")\n",
        "# snapshot_download(repo_id=\"lj1995/VoiceConversionWebUI\",allow_patterns=[\"pretrained/*\"], local_dir=\"/content/Retrieval-based-Voice-Conversion-WebUI/assets\")\n",
        "\n"
      ],
      "metadata": {
        "execution": {
          "iopub.status.busy": "2024-10-17T05:07:09.084943Z",
          "iopub.execute_input": "2024-10-17T05:07:09.08534Z",
          "iopub.status.idle": "2024-10-17T05:07:23.768141Z",
          "shell.execute_reply.started": "2024-10-17T05:07:09.085297Z",
          "shell.execute_reply": "2024-10-17T05:07:23.767292Z"
        },
        "trusted": true,
        "id": "nGW3kNl1-D70",
        "outputId": "cb9d6717-76fb-49e4-a26a-fa06d991fc6c",
        "colab": {
          "referenced_widgets": [
            "dd5ebe0fe9ca4d16995b0f3a3101b8c2",
            "7315834ab5b24541974a70f11066b4bd",
            "e2d7377f238b4c3ba70a334ff5b2432f",
            "d8ccee6c5f184c04b74ac75162ff92c4",
            "0424c6410c1747909b5ec839ab90552f",
            "9c6df1d7cf3746b48dfc52c81a3a6d91",
            "65b8b6efc2b64b82bbd9b9e77e83a44a",
            "ddbfff5ae9104bf8a859a3a5df9a2088",
            "c499da28190e4b5eb3a8112f647c6625",
            "d337a038e34c4a2a997b2d70773b23dc",
            "4baea678b2754d1f8aafa37130bfa743",
            "c96accc9e320486fbebc2b16e67af2b7",
            "d4853584e8a24245b098dbddb10e7e63",
            "e6094cf6a9c643119905cda147190397",
            "d9a383b4661b4d6dbba9f52674b271e0",
            "7997fec070e6445d91fad1f8ea181540",
            "cd7e795e63c34fa3b89e41ce92ca57fb",
            "4544bf5c5a7347a9a60d47d5725d2066",
            "40d0d6144c0344f88ff53f246412a19e",
            "0948cccbd7ef4bafba1f0928bccc2edb",
            "182a186f94a24bb393480965844d0d1e",
            "9d9eb9af36c0413d8ec08a2631a5a66c",
            "5894997654f346a6ba3290fb4913fbca"
          ]
        }
      },
      "execution_count": null,
      "outputs": [
        {
          "name": "stdout",
          "text": "[Errno 2] No such file or directory: '/kaggle/working/ComfyUI'\n/kaggle/working/Retrieval-based-Voice-Conversion-WebUI\n",
          "output_type": "stream"
        },
        {
          "output_type": "display_data",
          "data": {
            "text/plain": "hubert_base.pt:   0%|          | 0.00/190M [00:00<?, ?B/s]",
            "application/vnd.jupyter.widget-view+json": {
              "version_major": 2,
              "version_minor": 0,
              "model_id": "dd5ebe0fe9ca4d16995b0f3a3101b8c2"
            }
          },
          "metadata": {}
        },
        {
          "output_type": "display_data",
          "data": {
            "text/plain": "rmvpe.pt:   0%|          | 0.00/181M [00:00<?, ?B/s]",
            "application/vnd.jupyter.widget-view+json": {
              "version_major": 2,
              "version_minor": 0,
              "model_id": "7315834ab5b24541974a70f11066b4bd"
            }
          },
          "metadata": {}
        },
        {
          "output_type": "display_data",
          "data": {
            "text/plain": "(…)-äººå£°vocals+éäººå£°instrumentals.pth:   0%|          | 0.00/63.5M [00:00<?, ?B/s]",
            "application/vnd.jupyter.widget-view+json": {
              "version_major": 2,
              "version_minor": 0,
              "model_id": "e2d7377f238b4c3ba70a334ff5b2432f"
            }
          },
          "metadata": {}
        },
        {
          "output_type": "display_data",
          "data": {
            "text/plain": "HP2_all_vocals.pth:   0%|          | 0.00/63.5M [00:00<?, ?B/s]",
            "application/vnd.jupyter.widget-view+json": {
              "version_major": 2,
              "version_minor": 0,
              "model_id": "d8ccee6c5f184c04b74ac75162ff92c4"
            }
          },
          "metadata": {}
        },
        {
          "output_type": "display_data",
          "data": {
            "text/plain": "HP3_all_vocals.pth:   0%|          | 0.00/63.5M [00:00<?, ?B/s]",
            "application/vnd.jupyter.widget-view+json": {
              "version_major": 2,
              "version_minor": 0,
              "model_id": "0424c6410c1747909b5ec839ab90552f"
            }
          },
          "metadata": {}
        },
        {
          "output_type": "display_data",
          "data": {
            "text/plain": "(…)å¾äººå£°vocals+å¶ä»instrumentals.pth:   0%|          | 0.00/63.5M [00:00<?, ?B/s]",
            "application/vnd.jupyter.widget-view+json": {
              "version_major": 2,
              "version_minor": 0,
              "model_id": "9c6df1d7cf3746b48dfc52c81a3a6d91"
            }
          },
          "metadata": {}
        },
        {
          "output_type": "display_data",
          "data": {
            "text/plain": "HP5_only_main_vocal.pth:   0%|          | 0.00/63.5M [00:00<?, ?B/s]",
            "application/vnd.jupyter.widget-view+json": {
              "version_major": 2,
              "version_minor": 0,
              "model_id": "65b8b6efc2b64b82bbd9b9e77e83a44a"
            }
          },
          "metadata": {}
        },
        {
          "output_type": "display_data",
          "data": {
            "text/plain": "VR-DeEchoAggressive.pth:   0%|          | 0.00/63.7M [00:00<?, ?B/s]",
            "application/vnd.jupyter.widget-view+json": {
              "version_major": 2,
              "version_minor": 0,
              "model_id": "ddbfff5ae9104bf8a859a3a5df9a2088"
            }
          },
          "metadata": {}
        },
        {
          "output_type": "display_data",
          "data": {
            "text/plain": "VR-DeEchoDeReverb.pth:   0%|          | 0.00/112M [00:00<?, ?B/s]",
            "application/vnd.jupyter.widget-view+json": {
              "version_major": 2,
              "version_minor": 0,
              "model_id": "c499da28190e4b5eb3a8112f647c6625"
            }
          },
          "metadata": {}
        },
        {
          "output_type": "display_data",
          "data": {
            "text/plain": "VR-DeEchoNormal.pth:   0%|          | 0.00/63.7M [00:00<?, ?B/s]",
            "application/vnd.jupyter.widget-view+json": {
              "version_major": 2,
              "version_minor": 0,
              "model_id": "d337a038e34c4a2a997b2d70773b23dc"
            }
          },
          "metadata": {}
        },
        {
          "output_type": "display_data",
          "data": {
            "text/plain": "vocals.onnx:   0%|          | 0.00/66.8M [00:00<?, ?B/s]",
            "application/vnd.jupyter.widget-view+json": {
              "version_major": 2,
              "version_minor": 0,
              "model_id": "4baea678b2754d1f8aafa37130bfa743"
            }
          },
          "metadata": {}
        },
        {
          "output_type": "display_data",
          "data": {
            "text/plain": "D32k.pth:   0%|          | 0.00/143M [00:00<?, ?B/s]",
            "application/vnd.jupyter.widget-view+json": {
              "version_major": 2,
              "version_minor": 0,
              "model_id": "c96accc9e320486fbebc2b16e67af2b7"
            }
          },
          "metadata": {}
        },
        {
          "output_type": "display_data",
          "data": {
            "text/plain": "D40k.pth:   0%|          | 0.00/143M [00:00<?, ?B/s]",
            "application/vnd.jupyter.widget-view+json": {
              "version_major": 2,
              "version_minor": 0,
              "model_id": "d4853584e8a24245b098dbddb10e7e63"
            }
          },
          "metadata": {}
        },
        {
          "output_type": "display_data",
          "data": {
            "text/plain": "D48k.pth:   0%|          | 0.00/143M [00:00<?, ?B/s]",
            "application/vnd.jupyter.widget-view+json": {
              "version_major": 2,
              "version_minor": 0,
              "model_id": "e6094cf6a9c643119905cda147190397"
            }
          },
          "metadata": {}
        },
        {
          "output_type": "display_data",
          "data": {
            "text/plain": "G32k.pth:   0%|          | 0.00/73.8M [00:00<?, ?B/s]",
            "application/vnd.jupyter.widget-view+json": {
              "version_major": 2,
              "version_minor": 0,
              "model_id": "d9a383b4661b4d6dbba9f52674b271e0"
            }
          },
          "metadata": {}
        },
        {
          "output_type": "display_data",
          "data": {
            "text/plain": "G40k.pth:   0%|          | 0.00/73.0M [00:00<?, ?B/s]",
            "application/vnd.jupyter.widget-view+json": {
              "version_major": 2,
              "version_minor": 0,
              "model_id": "7997fec070e6445d91fad1f8ea181540"
            }
          },
          "metadata": {}
        },
        {
          "output_type": "display_data",
          "data": {
            "text/plain": "G48k.pth:   0%|          | 0.00/75.3M [00:00<?, ?B/s]",
            "application/vnd.jupyter.widget-view+json": {
              "version_major": 2,
              "version_minor": 0,
              "model_id": "cd7e795e63c34fa3b89e41ce92ca57fb"
            }
          },
          "metadata": {}
        },
        {
          "output_type": "display_data",
          "data": {
            "text/plain": "f0D32k.pth:   0%|          | 0.00/143M [00:00<?, ?B/s]",
            "application/vnd.jupyter.widget-view+json": {
              "version_major": 2,
              "version_minor": 0,
              "model_id": "4544bf5c5a7347a9a60d47d5725d2066"
            }
          },
          "metadata": {}
        },
        {
          "output_type": "display_data",
          "data": {
            "text/plain": "f0D40k.pth:   0%|          | 0.00/143M [00:00<?, ?B/s]",
            "application/vnd.jupyter.widget-view+json": {
              "version_major": 2,
              "version_minor": 0,
              "model_id": "40d0d6144c0344f88ff53f246412a19e"
            }
          },
          "metadata": {}
        },
        {
          "output_type": "display_data",
          "data": {
            "text/plain": "f0D48k.pth:   0%|          | 0.00/143M [00:00<?, ?B/s]",
            "application/vnd.jupyter.widget-view+json": {
              "version_major": 2,
              "version_minor": 0,
              "model_id": "0948cccbd7ef4bafba1f0928bccc2edb"
            }
          },
          "metadata": {}
        },
        {
          "output_type": "display_data",
          "data": {
            "text/plain": "f0G32k.pth:   0%|          | 0.00/74.0M [00:00<?, ?B/s]",
            "application/vnd.jupyter.widget-view+json": {
              "version_major": 2,
              "version_minor": 0,
              "model_id": "182a186f94a24bb393480965844d0d1e"
            }
          },
          "metadata": {}
        },
        {
          "output_type": "display_data",
          "data": {
            "text/plain": "f0G40k.pth:   0%|          | 0.00/73.1M [00:00<?, ?B/s]",
            "application/vnd.jupyter.widget-view+json": {
              "version_major": 2,
              "version_minor": 0,
              "model_id": "9d9eb9af36c0413d8ec08a2631a5a66c"
            }
          },
          "metadata": {}
        },
        {
          "output_type": "display_data",
          "data": {
            "text/plain": "f0G48k.pth:   0%|          | 0.00/75.5M [00:00<?, ?B/s]",
            "application/vnd.jupyter.widget-view+json": {
              "version_major": 2,
              "version_minor": 0,
              "model_id": "5894997654f346a6ba3290fb4913fbca"
            }
          },
          "metadata": {}
        },
        {
          "execution_count": 3,
          "output_type": "execute_result",
          "data": {
            "text/plain": "'/kaggle/working/Retrieval-based-Voice-Conversion-WebUI/assets'"
          },
          "metadata": {}
        }
      ]
    },
    {
      "cell_type": "code",
      "source": [
        "# !pip3 install faiss-cpu==1.7.2 fairseq gradio==3.14.0 ffmpeg ffmpeg-python praat-parselmouth pyworld numpy==1.23.5 numba==0.56.4 librosa==0.9.2"
      ],
      "metadata": {
        "execution": {
          "iopub.status.busy": "2024-10-17T05:01:32.054957Z",
          "iopub.status.idle": "2024-10-17T05:01:32.055509Z",
          "shell.execute_reply.started": "2024-10-17T05:01:32.055231Z",
          "shell.execute_reply": "2024-10-17T05:01:32.055257Z"
        },
        "trusted": true,
        "id": "VJ6ubV_M-D73"
      },
      "execution_count": null,
      "outputs": []
    },
    {
      "cell_type": "code",
      "source": [
        "!pip list |grep numba\n",
        "!pip list |grep numpy\n",
        "!pip list |grep transformers\n",
        "!pip list |grep torch\n",
        "!pip list |grep cupy"
      ],
      "metadata": {
        "execution": {
          "iopub.status.busy": "2024-10-17T05:01:32.059161Z",
          "iopub.status.idle": "2024-10-17T05:01:32.059887Z",
          "shell.execute_reply.started": "2024-10-17T05:01:32.05964Z",
          "shell.execute_reply": "2024-10-17T05:01:32.059663Z"
        },
        "trusted": true,
        "id": "8R9RVqVA-D75"
      },
      "execution_count": null,
      "outputs": []
    },
    {
      "cell_type": "markdown",
      "source": [
        "## Web UI"
      ],
      "metadata": {
        "id": "2ems4R12-D77"
      }
    },
    {
      "cell_type": "code",
      "source": [
        "%cd /content/Retrieval-based-Voice-Conversion-WebUI\n",
        "import subprocess\n",
        "import urllib.request\n",
        "print(\"The password/enpoint ip for localtunnel is:\", urllib.request.urlopen('https://ipv4.icanhazip.com').read().decode('utf8').strip(\"\\n\"))\n",
        "subprocess.Popen([\"lt\", \"--port\", \"7865\"])\n",
        "!python infer-web.py"
      ],
      "metadata": {
        "execution": {
          "iopub.status.busy": "2024-10-17T05:27:35.604531Z",
          "iopub.execute_input": "2024-10-17T05:27:35.605284Z",
          "iopub.status.idle": "2024-10-17T05:27:44.831287Z",
          "shell.execute_reply.started": "2024-10-17T05:27:35.605238Z",
          "shell.execute_reply": "2024-10-17T05:27:44.830395Z"
        },
        "trusted": true,
        "id": "w_TLkRWB-D77",
        "outputId": "ca0e83b2-0e44-4065-a959-8a612c114df4"
      },
      "execution_count": null,
      "outputs": [
        {
          "name": "stdout",
          "text": "/kaggle/working/Retrieval-based-Voice-Conversion-WebUI\nThe password/enpoint ip for localtunnel is: 34.74.140.255\nyour url is: https://mean-yaks-eat.loca.lt\n^C\nTraceback (most recent call last):\n  File \"/opt/conda/lib/python3.10/site-packages/tensorboard/compat/__init__.py\", line 42, in tf\n    from tensorboard.compat import notf  # noqa: F401\nImportError: cannot import name 'notf' from 'tensorboard.compat' (/opt/conda/lib/python3.10/site-packages/tensorboard/compat/__init__.py)\n\nDuring handling of the above exception, another exception occurred:\n\nTraceback (most recent call last):\n  File \"/kaggle/working/Retrieval-based-Voice-Conversion-WebUI/infer-web.py\", line 8, in <module>\n    from infer.modules.vc.modules import VC\n  File \"/kaggle/working/Retrieval-based-Voice-Conversion-WebUI/infer/modules/vc/modules.py\", line 19, in <module>\n    from infer.modules.vc.utils import *\n  File \"/kaggle/working/Retrieval-based-Voice-Conversion-WebUI/infer/modules/vc/utils.py\", line 3, in <module>\n    from fairseq import checkpoint_utils\n  File \"/opt/conda/lib/python3.10/site-packages/fairseq/__init__.py\", line 21, in <module>\n    from fairseq.logging import meters, metrics, progress_bar  # noqa\n  File \"/opt/conda/lib/python3.10/site-packages/fairseq/logging/progress_bar.py\", line 407, in <module>\n    from torch.utils.tensorboard import SummaryWriter\n  File \"/opt/conda/lib/python3.10/site-packages/torch/utils/tensorboard/__init__.py\", line 12, in <module>\n    from .writer import FileWriter, SummaryWriter  # noqa: F401\n  File \"/opt/conda/lib/python3.10/site-packages/torch/utils/tensorboard/writer.py\", line 19, in <module>\n    from ._embedding import get_embedding_info, make_mat, make_sprite, make_tsv, write_pbtxt\n  File \"/opt/conda/lib/python3.10/site-packages/torch/utils/tensorboard/_embedding.py\", line 10, in <module>\n    _HAS_GFILE_JOIN = hasattr(tf.io.gfile, \"join\")\n  File \"/opt/conda/lib/python3.10/site-packages/tensorboard/lazy.py\", line 65, in __getattr__\n    return getattr(load_once(self), attr_name)\n  File \"/opt/conda/lib/python3.10/site-packages/tensorboard/lazy.py\", line 97, in wrapper\n    cache[arg] = f(arg)\n  File \"/opt/conda/lib/python3.10/site-packages/tensorboard/lazy.py\", line 50, in load_once\n    module = load_fn()\n  File \"/opt/conda/lib/python3.10/site-packages/tensorboard/compat/__init__.py\", line 45, in tf\n    import tensorflow\n  File \"/opt/conda/lib/python3.10/site-packages/tensorflow/__init__.py\", line 45, in <module>\n    from tensorflow._api.v2 import __internal__\n  File \"/opt/conda/lib/python3.10/site-packages/tensorflow/_api/v2/__internal__/__init__.py\", line 8, in <module>\n    from tensorflow._api.v2.__internal__ import autograph\n  File \"/opt/conda/lib/python3.10/site-packages/tensorflow/_api/v2/__internal__/autograph/__init__.py\", line 8, in <module>\n    from tensorflow.python.autograph.core.ag_ctx import control_status_ctx # line: 34\n  File \"/opt/conda/lib/python3.10/site-packages/tensorflow/python/autograph/core/ag_ctx.py\", line 21, in <module>\n    from tensorflow.python.autograph.utils import ag_logging\n  File \"/opt/conda/lib/python3.10/site-packages/tensorflow/python/autograph/utils/__init__.py\", line 17, in <module>\n    from tensorflow.python.autograph.utils.context_managers import control_dependency_on_returns\n  File \"/opt/conda/lib/python3.10/site-packages/tensorflow/python/autograph/utils/context_managers.py\", line 19, in <module>\n    from tensorflow.python.framework import ops\n  File \"/opt/conda/lib/python3.10/site-packages/tensorflow/python/framework/ops.py\", line 46, in <module>\n    from tensorflow.python import pywrap_tfe\n  File \"/opt/conda/lib/python3.10/site-packages/tensorflow/python/pywrap_tfe.py\", line 25, in <module>\n    from tensorflow.python._pywrap_tfe import *\nKeyboardInterrupt\n",
          "output_type": "stream"
        }
      ]
    },
    {
      "cell_type": "markdown",
      "source": [
        "## cli convert"
      ],
      "metadata": {
        "id": "LMHaG49P-D78"
      }
    },
    {
      "cell_type": "code",
      "source": [
        "%cd /content/Retrieval-based-Voice-Conversion-WebUI\n",
        "!mkdir /content/rvc_output\n",
        "#f0up_key 变声\n",
        "#f0method [\"pm\", \"harvest\", \"dio\", \"rmvpe\", \"rmvpe_gpu\"],选择音高提取算法:输入歌声可用pm提速,高质量语音但CPU差可用dio提速,harvest质量更好但慢,rmvpe效果最好且微吃CPU/GPU\"\n",
        "#input_path 输入的音频文件\n",
        "#model_name 声库,assets/weights\n",
        "#index_rate 检索特征占比\n",
        "#filter_radius >=3则使用对harvest音高识别的结果使用中值滤波，数值为滤波半径，使用可以削弱哑音\n",
        "#resample_sr 后处理重采样至最终采样率，0为不进行重采样\n",
        "#rms_mix_rate 输入源音量包络替换输出音量包络融合比例，越靠近1越使用输出包络\n",
        "# protect 保护清辅音和呼吸声，防止电音撕裂等artifact，拉满0.5不开启，调低加大保护力度但可能降低索引效果\n",
        "#--index_path INDEX_PATH\\ #特征检索库文件路径\n",
        "\n",
        "!python ./tools/infer_cli.py --f0up_key 0 \\\n",
        "    --input_path /kaggle/input/to-rvc/test.mp3\\\n",
        "    --f0method dio \\\n",
        "    --opt_path /content/rvc_output/test.wav \\\n",
        "    --model_name rumeng/qiqi/qiqi.pth\\\n",
        "    --filter_radius 3 \\\n",
        "    --resample_sr 0  \\\n",
        "    --rms_mix_rate 0.25 \\\n",
        "    --protect 0.1\n",
        "\n",
        "from IPython.display import Audio\n",
        "audio = Audio(filename='/content/rvc_output/test.wav')\n",
        "display(audio)"
      ],
      "metadata": {
        "execution": {
          "iopub.status.busy": "2024-10-17T05:01:32.062895Z",
          "iopub.status.idle": "2024-10-17T05:01:32.063633Z",
          "shell.execute_reply.started": "2024-10-17T05:01:32.063385Z",
          "shell.execute_reply": "2024-10-17T05:01:32.063409Z"
        },
        "trusted": true,
        "id": "i2hJc18a-D79"
      },
      "execution_count": null,
      "outputs": []
    },
    {
      "cell_type": "markdown",
      "source": [
        "TRAIN"
      ],
      "metadata": {
        "id": "j9YCXzac-D7-"
      }
    }
  ]
}